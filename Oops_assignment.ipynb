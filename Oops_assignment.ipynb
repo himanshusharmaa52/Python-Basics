{
  "nbformat": 4,
  "nbformat_minor": 0,
  "metadata": {
    "colab": {
      "provenance": [],
      "authorship_tag": "ABX9TyNFXOvzW7mohRDEdBT2dC35",
      "include_colab_link": true
    },
    "kernelspec": {
      "name": "python3",
      "display_name": "Python 3"
    },
    "language_info": {
      "name": "python"
    }
  },
  "cells": [
    {
      "cell_type": "markdown",
      "metadata": {
        "id": "view-in-github",
        "colab_type": "text"
      },
      "source": [
        "<a href=\"https://colab.research.google.com/github/himanshusharmaa52/Python-Basics/blob/main/Oops_assignment.ipynb\" target=\"_parent\"><img src=\"https://colab.research.google.com/assets/colab-badge.svg\" alt=\"Open In Colab\"/></a>"
      ]
    },
    {
      "cell_type": "code",
      "execution_count": null,
      "metadata": {
        "id": "RVqDH7TRTXkc"
      },
      "outputs": [],
      "source": []
    },
    {
      "cell_type": "markdown",
      "source": [
        "Question 1.\tWhat is Object-Oriented Programming (OOP)?\n",
        "\n",
        "ANSWER 1\n",
        "\n",
        "OOP is a programming paradigm that organizes code using objects and classes. It focuses on concepts like encapsulation, inheritance, polymorphism, and abstraction."
      ],
      "metadata": {
        "id": "Xk8r25MPTd5L"
      }
    },
    {
      "cell_type": "markdown",
      "source": [
        "Question 2.\tWhat is a class in OOP?\n",
        "\n",
        "Answer 2\n",
        "\n",
        "A class is a blueprint for creating objects. It defines attributes (variables) and methods (functions) that describe an objects behavior."
      ],
      "metadata": {
        "id": "J2LHW_WUTosV"
      }
    },
    {
      "cell_type": "markdown",
      "source": [
        "Question 3. What is an object in OOP?\n",
        "\n",
        "ANSWER 3\n",
        "\n",
        "An object is an instance of a class. It contains data (attributes) and behaviors (methods) defined in the class."
      ],
      "metadata": {
        "id": "m-71yRzBT4MR"
      }
    },
    {
      "cell_type": "markdown",
      "source": [
        "Question 4.\tWhat is the difference between abstraction and encapsulation?\n",
        "\n",
        "\n",
        "ANSWER 4\n",
        "\n",
        "\t•\tAbstraction hides implementation details and shows only necessary features.\n",
        "\t•\tEncapsulation bundles data and methods within a class and restricts direct access to some components."
      ],
      "metadata": {
        "id": "hA7xOOYYUVtl"
      }
    },
    {
      "cell_type": "markdown",
      "source": [],
      "metadata": {
        "id": "-c1y10w9TpLL"
      }
    },
    {
      "cell_type": "markdown",
      "source": [
        "\tQuestion 5.\tWhat are dunder methods in Python?\n",
        "\n",
        "  ANSWER 5\n",
        "Dunder (double underscore) methods are special methods in Python, such as __init__(), __str__(), and __repr__(), that have predefined meanings in OOP."
      ],
      "metadata": {
        "id": "uoE_brWiUeTC"
      }
    },
    {
      "cell_type": "markdown",
      "source": [
        "Question 6.\tExplain the concept of inheritance in OOP.\n",
        "\n",
        "ANSWER 6\n",
        "Inheritance allows a class (child) to derive properties and methods from another class (parent), promoting code reusability."
      ],
      "metadata": {
        "id": "ybZ89DrMUjkT"
      }
    },
    {
      "cell_type": "markdown",
      "source": [
        "Question 7.\tWhat is polymorphism in OOP?\n",
        "\n",
        "ANSWER 7\n",
        "Polymorphism allows methods or functions to take on multiple forms, such as method overloading and method overriding."
      ],
      "metadata": {
        "id": "Fg8dS6gOUl0K"
      }
    },
    {
      "cell_type": "markdown",
      "source": [
        "QUESTION 8.\tHow is encapsulation achieved in Python?\n",
        "\n",
        "ANSWER 8\n",
        "\n",
        "Encapsulation is achieved using private (__variable), protected (_variable), and public (variable) access specifiers."
      ],
      "metadata": {
        "id": "Z0oTEbY-UqhX"
      }
    },
    {
      "cell_type": "markdown",
      "source": [
        "Question 9.\tWhat is a constructor in Python?\n",
        "\n",
        "ANSWER 9\n",
        "\n",
        "A constructor is a special method (__init__) that gets called automatically when an object is created."
      ],
      "metadata": {
        "id": "WMZcBJLGUtRJ"
      }
    },
    {
      "cell_type": "markdown",
      "source": [
        "QUESTION  10.\tWhat are class and static methods in Python?\n",
        "\n",
        "ANSWER 10\n",
        "\n",
        "\t•\tClass methods (@classmethod) operate on class variables and take cls as a parameter.\n",
        "\t•\tStatic methods (@staticmethod) do not operate on instance or class variables and act like regular functions inside a class."
      ],
      "metadata": {
        "id": "mXUruqUhUvOa"
      }
    },
    {
      "cell_type": "markdown",
      "source": [
        "Question 11.\tWhat is method overloading in Python?\n",
        "\n",
        "ANSWER 11\n",
        "\n",
        "Python does not support method overloading directly but can be simulated using default arguments."
      ],
      "metadata": {
        "id": "8SltWuiaUxIR"
      }
    },
    {
      "cell_type": "markdown",
      "source": [
        "\tQUESTION-12.\tWhat is method overriding in OOP?\n",
        "\n",
        "  ANSWER 12\n",
        "\n",
        "Method overriding occurs when a child class provides a specific implementation of a method already defined in the parent class."
      ],
      "metadata": {
        "id": "_Wx4Q5dsUzD-"
      }
    },
    {
      "cell_type": "markdown",
      "source": [
        "QUESTION-13.\tWhat is a property decorator in Python?\\\n",
        "\n",
        "ANSWER 13\n",
        "\n",
        "The @property decorator allows a method to be accessed as an attribute."
      ],
      "metadata": {
        "id": "5O5GoZq2U1pE"
      }
    },
    {
      "cell_type": "markdown",
      "source": [
        "\tQUESTION-14.\tWhy is polymorphism important in OOP?\n",
        "\n",
        "  ANSWER 14\n",
        "\n",
        "Polymorphism enables flexibility and reusability, allowing different classes to be treated uniformly through a common interface."
      ],
      "metadata": {
        "id": "iis6PZl7U4U9"
      }
    },
    {
      "cell_type": "markdown",
      "source": [
        "QUESTION-15.\tWhat is an abstract class in Python?\n",
        "\n",
        "ANSWER 15\n",
        "\n",
        "An abstract class (ABC module) cannot be instantiated and contains at least one abstract method."
      ],
      "metadata": {
        "id": "hLePv2TUU70G"
      }
    },
    {
      "cell_type": "markdown",
      "source": [
        "QUESTION 16.\tWhat are the advantages of OOP?\n",
        "\n",
        "ANSWER 16\n",
        "\n",
        "\t•\tCode reusability\n",
        "\t•\tModularity\n",
        "\t•\tEncapsulation (data hiding)\n",
        "\t•\tScalability and maintainability"
      ],
      "metadata": {
        "id": "3olJLfiEU9tv"
      }
    },
    {
      "cell_type": "markdown",
      "source": [
        "QUESTION 17.\tWhat is the difference between a class variable and an instance variable?\n",
        "\n",
        "ANSWER 17\n",
        "\n",
        "\t•\tClass variables are shared among all instances of a class.\n",
        "\t•\tInstance variables are unique to each object."
      ],
      "metadata": {
        "id": "KhgSTtVyU__l"
      }
    },
    {
      "cell_type": "markdown",
      "source": [
        "\tQUESTION 18.\tWhat is multiple inheritance in Python?\n",
        "\n",
        "  ANSWER 18\n",
        "\n",
        "Multiple inheritance allows a class to inherit from more than one parent class."
      ],
      "metadata": {
        "id": "O2Ww24d1VBzd"
      }
    },
    {
      "cell_type": "markdown",
      "source": [
        "\tQUESTION 19.\tExplain the purpose of __str__ and __repr__ methods in Python.\n",
        "\n",
        "  ANSWER 19\n",
        "\n",
        "\t•\t__str__() provides a user-friendly string representation of an object.\n",
        "\t•\t__repr__() provides a developer-friendly representation, typically used for debugging."
      ],
      "metadata": {
        "id": "fnwhKUiOVEA3"
      }
    },
    {
      "cell_type": "markdown",
      "source": [
        "\tQUESTION 20.\tWhat is the significance of the super() function in Python?\n",
        "\n",
        "  ANSWER 20\n",
        "\n",
        "The super() function allows access to parent class methods and constructors."
      ],
      "metadata": {
        "id": "SWTQv1NvVGpm"
      }
    },
    {
      "cell_type": "markdown",
      "source": [
        "\tQUESTION 21.\tWhat is the significance of the __del__ method in Python?\n",
        "\n",
        "  ANSWER 21\n",
        "\n",
        "The __del__ method is a destructor that is called when an object is deleted."
      ],
      "metadata": {
        "id": "EEJqoV4FVIje"
      }
    },
    {
      "cell_type": "markdown",
      "source": [
        "\tQUESTION 22.\tWhat is the difference between @staticmethod and @classmethod in Python?\n",
        "  \n",
        "  ANSWER 22\n",
        "\t•\t@classmethod takes cls as a parameter and works on class-level data.\n",
        "\t•\t@staticmethod does not take cls and is independent of class and instance variables."
      ],
      "metadata": {
        "id": "YhDcI_VcVKVC"
      }
    },
    {
      "cell_type": "markdown",
      "source": [
        "\tQUESTION 23.\tHow does polymorphism work in Python with inheritance?\n",
        "\n",
        "  ANSWER 23\n",
        "\n",
        "Polymorphism allows methods to be overridden in child classes, enabling different behavior with the same method name."
      ],
      "metadata": {
        "id": "ivDPb6WTVL6L"
      }
    },
    {
      "cell_type": "markdown",
      "source": [
        "\tQUESTION 24.\tWhat is method chaining in Python OOP?\n",
        "\n",
        "  ANSWER 24\n",
        "\n",
        "Method chaining allows multiple methods to be called on the same object in a single line."
      ],
      "metadata": {
        "id": "wnpRNIzsVPcH"
      }
    },
    {
      "cell_type": "markdown",
      "source": [
        "\t25.\tWhat is the purpose of the __call__ method in Python?\n",
        "\n",
        "  ANSWER 25\n",
        "  \n",
        "The __call__ method allows an instance of a class to be called as a function."
      ],
      "metadata": {
        "id": "K0JlJUXWVRhu"
      }
    },
    {
      "cell_type": "markdown",
      "source": [
        "# practical answers\n"
      ],
      "metadata": {
        "id": "XEZik5bibv3o"
      }
    },
    {
      "cell_type": "code",
      "source": [
        "#Answer 1\n",
        "class Animal:\n",
        "    def speak(self):\n",
        "        print(\"This is a generic sound\")\n",
        "\n",
        "class Dog(Animal):\n",
        "    def speak(self):\n",
        "        print(\"Bark!\")\n",
        "\n",
        "dog = Dog()\n",
        "dog.speak()"
      ],
      "metadata": {
        "colab": {
          "base_uri": "https://localhost:8080/"
        },
        "id": "EaqIMNpkcAxq",
        "outputId": "45d387b1-28f9-4c9a-f69d-a0e1f9940a6b"
      },
      "execution_count": 2,
      "outputs": [
        {
          "output_type": "stream",
          "name": "stdout",
          "text": [
            "Bark!\n"
          ]
        }
      ]
    },
    {
      "cell_type": "code",
      "source": [
        "# answer 2\n",
        "from abc import ABC, abstractmethod\n",
        "\n",
        "class Shape(ABC):\n",
        "    @abstractmethod\n",
        "    def area(self):\n",
        "        pass\n",
        "\n",
        "class Circle(Shape):\n",
        "    def __init__(self, radius):\n",
        "        self.radius = radius\n",
        "\n",
        "    def area(self):\n",
        "        return 3.14 * self.radius * self.radius\n",
        "\n",
        "class Rectangle(Shape):\n",
        "    def __init__(self, length, breadth):\n",
        "        self.length = length\n",
        "        self.breadth = breadth\n",
        "\n",
        "    def area(self):\n",
        "        return self.length * self.breadth"
      ],
      "metadata": {
        "id": "5TLzrR6rcjKK"
      },
      "execution_count": 4,
      "outputs": []
    },
    {
      "cell_type": "code",
      "source": [
        "#Answer 3\n",
        "class Vehicle:\n",
        "    def __init__(self, type):\n",
        "        self.type = type\n",
        "\n",
        "class Car(Vehicle):\n",
        "    def __init__(self, type, brand):\n",
        "        super().__init__(type)\n",
        "        self.brand = brand\n",
        "\n",
        "class ElectricCar(Car):\n",
        "    def __init__(self, type, brand, battery):\n",
        "        super().__init__(type, brand)\n",
        "        self.battery = battery"
      ],
      "metadata": {
        "id": "IvjzT0vWcwMk"
      },
      "execution_count": 5,
      "outputs": []
    },
    {
      "cell_type": "code",
      "source": [
        "#ans 4\n",
        "class Bird:\n",
        "    def fly(self):\n",
        "        print(\"Bird is flying\")\n",
        "\n",
        "class Sparrow(Bird):\n",
        "    def fly(self):\n",
        "        print(\"Sparrow flies high\")\n",
        "\n",
        "class Penguin(Bird):\n",
        "    def fly(self):\n",
        "        print(\"Penguins cannot fly\")\n",
        "\n",
        "birds = [Sparrow(), Penguin()]\n",
        "for bird in birds:\n",
        "    bird.fly()"
      ],
      "metadata": {
        "colab": {
          "base_uri": "https://localhost:8080/"
        },
        "id": "4xqhJ4Eudopi",
        "outputId": "203d39ea-425a-4b63-f445-0473e46721de"
      },
      "execution_count": 6,
      "outputs": [
        {
          "output_type": "stream",
          "name": "stdout",
          "text": [
            "Sparrow flies high\n",
            "Penguins cannot fly\n"
          ]
        }
      ]
    },
    {
      "cell_type": "code",
      "source": [
        "# answer 5\n",
        "class BankAccount:\n",
        "    def __init__(self, balance):\n",
        "        self.__balance = balance\n",
        "\n",
        "    def deposit(self, amount):\n",
        "        self.__balance += amount\n",
        "\n",
        "    def withdraw(self, amount):\n",
        "        if amount <= self.__balance:\n",
        "            self.__balance -= amount\n",
        "\n",
        "    def get_balance(self):\n",
        "        return self.__balance"
      ],
      "metadata": {
        "id": "YflIK0dTdwIf"
      },
      "execution_count": 7,
      "outputs": []
    },
    {
      "cell_type": "code",
      "source": [
        "#Answer 6\n",
        "class Instrument:\n",
        "    def play(self):\n",
        "        print(\"Playing an instrument\")\n",
        "\n",
        "class Guitar(Instrument):\n",
        "    def play(self):\n",
        "        print(\"Playing Guitar\")\n",
        "\n",
        "class Piano(Instrument):\n",
        "    def play(self):\n",
        "        print(\"Playing Piano\")\n",
        "\n",
        "instruments = [Guitar(), Piano()]\n",
        "for instrument in instruments:\n",
        "    instrument.play()"
      ],
      "metadata": {
        "colab": {
          "base_uri": "https://localhost:8080/"
        },
        "id": "fiRUjbw8d0ZY",
        "outputId": "a38d7d6a-59b6-405a-ff63-bb980d13020e"
      },
      "execution_count": 8,
      "outputs": [
        {
          "output_type": "stream",
          "name": "stdout",
          "text": [
            "Playing Guitar\n",
            "Playing Piano\n"
          ]
        }
      ]
    },
    {
      "cell_type": "code",
      "source": [
        "# answer 7\n",
        "class MathOperations:\n",
        "    @classmethod\n",
        "    def add_numbers(cls, a, b):\n",
        "        return a + b\n",
        "\n",
        "    @staticmethod\n",
        "    def subtract_numbers(a, b):\n",
        "        return a - b\n",
        "\n",
        "# Example usage\n",
        "print(MathOperations.add_numbers(5, 3))   # Output: 8\n",
        "print(MathOperations.subtract_numbers(5, 3))  # Output: 2"
      ],
      "metadata": {
        "colab": {
          "base_uri": "https://localhost:8080/"
        },
        "id": "KhtPdGd_eQhB",
        "outputId": "7e53f153-1dc8-4b84-a864-5be008104e13"
      },
      "execution_count": 10,
      "outputs": [
        {
          "output_type": "stream",
          "name": "stdout",
          "text": [
            "8\n",
            "2\n"
          ]
        }
      ]
    },
    {
      "cell_type": "code",
      "source": [
        "# answer 8\n",
        "class Person:\n",
        "    count = 0  # Class variable to keep track of the number of persons\n",
        "\n",
        "    def __init__(self, name):\n",
        "        self.name = name\n",
        "        Person.count += 1\n",
        "\n",
        "    @classmethod\n",
        "    def total_persons(cls):\n",
        "        return cls.count\n",
        "\n",
        "# Example usage\n",
        "p1 = Person(\"Alice\")\n",
        "p2 = Person(\"Bob\")\n",
        "print(Person.total_persons())  # Output: 2"
      ],
      "metadata": {
        "colab": {
          "base_uri": "https://localhost:8080/"
        },
        "id": "dYK1RhETeVYf",
        "outputId": "ae74b052-9368-434f-a46f-c76797907b3b"
      },
      "execution_count": 9,
      "outputs": [
        {
          "output_type": "stream",
          "name": "stdout",
          "text": [
            "2\n"
          ]
        }
      ]
    },
    {
      "cell_type": "code",
      "source": [
        "#Answer 9\n",
        "class Fraction:\n",
        "    def __init__(self, numerator, denominator):\n",
        "        self.numerator = numerator\n",
        "        self.denominator = denominator\n",
        "\n",
        "    def __str__(self):\n",
        "        return f\"{self.numerator}/{self.denominator}\"\n",
        "\n",
        "# Example usage\n",
        "frac = Fraction(3, 5)\n",
        "print(frac)  # Output: 3/5"
      ],
      "metadata": {
        "colab": {
          "base_uri": "https://localhost:8080/"
        },
        "id": "DycMZeQ8eZ5g",
        "outputId": "f1ac0785-72b0-4896-c2ae-7416a8355a32"
      },
      "execution_count": 11,
      "outputs": [
        {
          "output_type": "stream",
          "name": "stdout",
          "text": [
            "3/5\n"
          ]
        }
      ]
    },
    {
      "cell_type": "code",
      "source": [
        "#Answer 10\n",
        "class Vector:\n",
        "    def __init__(self, x, y):\n",
        "        self.x = x\n",
        "        self.y = y\n",
        "\n",
        "    def __add__(self, other):\n",
        "        return Vector(self.x + other.x, self.y + other.y)\n",
        "\n",
        "    def __str__(self):\n",
        "        return f\"Vector({self.x}, {self.y})\"\n",
        "\n",
        "# Example usage\n",
        "v1 = Vector(2, 3)\n",
        "v2 = Vector(4, 5)\n",
        "v3 = v1 + v2\n",
        "print(v3)  # Output: Vector(6, 8)"
      ],
      "metadata": {
        "colab": {
          "base_uri": "https://localhost:8080/"
        },
        "id": "5NE_22icelb0",
        "outputId": "303a8238-5323-4904-dcc6-77b2fa9bee25"
      },
      "execution_count": 12,
      "outputs": [
        {
          "output_type": "stream",
          "name": "stdout",
          "text": [
            "Vector(6, 8)\n"
          ]
        }
      ]
    },
    {
      "cell_type": "code",
      "source": [
        "# answer 11\n",
        "class Person:\n",
        "    def __init__(self, name, age):\n",
        "        self.name = name\n",
        "        self.age = age\n",
        "\n",
        "    def greet(self):\n",
        "        print(f\"Hello, my name is {self.name} and I am {self.age} years old.\")\n",
        "\n",
        "# Example usage\n",
        "p = Person(\"Alice\", 25)\n",
        "p.greet()  # Output: Hello, my name is Alice and I am 25 years old.\n"
      ],
      "metadata": {
        "colab": {
          "base_uri": "https://localhost:8080/"
        },
        "id": "3qMj-l8TeqY-",
        "outputId": "7f4df0e1-44d8-4fa0-834c-7447b2b0fe88"
      },
      "execution_count": 13,
      "outputs": [
        {
          "output_type": "stream",
          "name": "stdout",
          "text": [
            "Hello, my name is Alice and I am 25 years old.\n"
          ]
        }
      ]
    },
    {
      "cell_type": "code",
      "source": [
        "# answer 12\n",
        "class Student:\n",
        "    def __init__(self, name, grades):\n",
        "        self.name = name\n",
        "        self.grades = grades  # List of grades\n",
        "\n",
        "    def average_grade(self):\n",
        "        return sum(self.grades) / len(self.grades) if self.grades else 0\n",
        "\n",
        "# Example usage\n",
        "s = Student(\"Bob\", [85, 90, 78])\n",
        "print(s.average_grade())  # Output: 84.33"
      ],
      "metadata": {
        "colab": {
          "base_uri": "https://localhost:8080/"
        },
        "id": "84OVTIsiexTc",
        "outputId": "cfbdd5f9-da8a-45c1-9249-a4ec08debc34"
      },
      "execution_count": 14,
      "outputs": [
        {
          "output_type": "stream",
          "name": "stdout",
          "text": [
            "84.33333333333333\n"
          ]
        }
      ]
    },
    {
      "cell_type": "code",
      "source": [
        "# answer 13\n",
        "class Rectangle:\n",
        "    def __init__(self):\n",
        "        self.length = 0\n",
        "        self.breadth = 0\n",
        "\n",
        "    def set_dimensions(self, length, breadth):\n",
        "        self.length = length\n",
        "        self.breadth = breadth\n",
        "\n",
        "    def area(self):\n",
        "        return self.length * self.breadth\n",
        "\n",
        "# Example usage\n",
        "rect = Rectangle()\n",
        "rect.set_dimensions(5, 10)\n",
        "print(rect.area())  # Output: 50"
      ],
      "metadata": {
        "colab": {
          "base_uri": "https://localhost:8080/"
        },
        "id": "3Vf8PY_Xe-8o",
        "outputId": "fa42adc8-ea20-4c13-95fd-d4a94e8fdf33"
      },
      "execution_count": 15,
      "outputs": [
        {
          "output_type": "stream",
          "name": "stdout",
          "text": [
            "50\n"
          ]
        }
      ]
    },
    {
      "cell_type": "code",
      "source": [
        "# answer 14\n",
        "class Employee:\n",
        "    def __init__(self, name, hours_worked, hourly_rate):\n",
        "        self.name = name\n",
        "        self.hours_worked = hours_worked\n",
        "        self.hourly_rate = hourly_rate\n",
        "\n",
        "    def calculate_salary(self):\n",
        "        return self.hours_worked * self.hourly_rate\n",
        "\n",
        "class Manager(Employee):\n",
        "    def __init__(self, name, hours_worked, hourly_rate, bonus):\n",
        "        super().__init__(name, hours_worked, hourly_rate)\n",
        "        self.bonus = bonus\n",
        "\n",
        "    def calculate_salary(self):\n",
        "        return super().calculate_salary() + self.bonus\n",
        "\n",
        "# Example usage\n",
        "emp = Employee(\"John\", 40, 20)\n",
        "mgr = Manager(\"Alice\", 40, 20, 500)\n",
        "\n",
        "print(emp.calculate_salary())  # Output: 800\n",
        "print(mgr.calculate_salary())  # Output: 1300"
      ],
      "metadata": {
        "colab": {
          "base_uri": "https://localhost:8080/"
        },
        "id": "IzyktWoQfEgY",
        "outputId": "5c65733c-42cc-46e3-be12-d302366172b4"
      },
      "execution_count": 16,
      "outputs": [
        {
          "output_type": "stream",
          "name": "stdout",
          "text": [
            "800\n",
            "1300\n"
          ]
        }
      ]
    },
    {
      "cell_type": "code",
      "source": [
        "# answer 15\n",
        "class Product:\n",
        "    def __init__(self, name, price, quantity):\n",
        "        self.name = name\n",
        "        self.price = price\n",
        "        self.quantity = quantity\n",
        "\n",
        "    def total_price(self):\n",
        "        return self.price * self.quantity\n",
        "\n",
        "# Example usage\n",
        "p = Product(\"Laptop\", 1000, 2)\n",
        "print(p.total_price())  # Output: 2000"
      ],
      "metadata": {
        "colab": {
          "base_uri": "https://localhost:8080/"
        },
        "id": "vpqcQ9hNfIMi",
        "outputId": "eddb86d9-9b1b-474d-c20f-0f41e8c143a5"
      },
      "execution_count": 17,
      "outputs": [
        {
          "output_type": "stream",
          "name": "stdout",
          "text": [
            "2000\n"
          ]
        }
      ]
    },
    {
      "cell_type": "code",
      "source": [
        "# answer 16\n",
        "from abc import ABC, abstractmethod\n",
        "\n",
        "class Animal(ABC):\n",
        "    @abstractmethod\n",
        "    def sound(self):\n",
        "        pass\n",
        "\n",
        "class Cow(Animal):\n",
        "    def sound(self):\n",
        "        return \"Moo!\"\n",
        "\n",
        "class Sheep(Animal):\n",
        "    def sound(self):\n",
        "        return \"Baa!\"\n",
        "\n",
        "# Example usage\n",
        "cow = Cow()\n",
        "sheep = Sheep()\n",
        "print(cow.sound())   # Output: Moo!\n",
        "print(sheep.sound()) # Output: Baa!"
      ],
      "metadata": {
        "colab": {
          "base_uri": "https://localhost:8080/"
        },
        "id": "d7lnab9BfNyY",
        "outputId": "e49bb23b-16f5-4402-9522-3c17fe748355"
      },
      "execution_count": 18,
      "outputs": [
        {
          "output_type": "stream",
          "name": "stdout",
          "text": [
            "Moo!\n",
            "Baa!\n"
          ]
        }
      ]
    },
    {
      "cell_type": "code",
      "source": [
        "# answer 17\n",
        "class Book:\n",
        "    def __init__(self, title, author, year_published):\n",
        "        self.title = title\n",
        "        self.author = author\n",
        "        self.year_published = year_published\n",
        "\n",
        "    def get_book_info(self):\n",
        "        return f\"Title: {self.title}, Author: {self.author}, Year: {self.year_published}\"\n",
        "\n",
        "# Example usage\n",
        "b = Book(\"The Alchemist\", \"Paulo Coelho\", 1988)\n",
        "print(b.get_book_info())\n",
        "# Output: Title: The Alchemist, Author: Paulo Coelho, Year: 1988"
      ],
      "metadata": {
        "colab": {
          "base_uri": "https://localhost:8080/"
        },
        "id": "qiWoSpGKfS93",
        "outputId": "e858ca36-6d04-44ec-fa9e-27a177e9579e"
      },
      "execution_count": 19,
      "outputs": [
        {
          "output_type": "stream",
          "name": "stdout",
          "text": [
            "Title: The Alchemist, Author: Paulo Coelho, Year: 1988\n"
          ]
        }
      ]
    },
    {
      "cell_type": "code",
      "source": [
        "# answer 18\n",
        "class House:\n",
        "    def __init__(self, address, price):\n",
        "        self.address = address\n",
        "        self.price = price\n",
        "\n",
        "class Mansion(House):\n",
        "    def __init__(self, address, price, number_of_rooms):\n",
        "        super().__init__(address, price)\n",
        "        self.number_of_rooms = number_of_rooms\n",
        "\n",
        "# Example usage\n",
        "m = Mansion(\"123 Luxury Street\", 5000000, 10)\n",
        "print(f\"Address: {m.address}, Price: {m.price}, Rooms: {m.number_of_rooms}\")\n",
        "# Output: Address: 123 Luxury Street, Price: 5000000, Rooms: 10"
      ],
      "metadata": {
        "colab": {
          "base_uri": "https://localhost:8080/"
        },
        "id": "osMvR4J0fazM",
        "outputId": "56dcd363-9729-426b-c5e9-d3cd00e290de"
      },
      "execution_count": 20,
      "outputs": [
        {
          "output_type": "stream",
          "name": "stdout",
          "text": [
            "Address: 123 Luxury Street, Price: 5000000, Rooms: 10\n"
          ]
        }
      ]
    }
  ]
}