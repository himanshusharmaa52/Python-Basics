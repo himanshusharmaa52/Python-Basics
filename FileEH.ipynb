{
  "nbformat": 4,
  "nbformat_minor": 0,
  "metadata": {
    "colab": {
      "provenance": [],
      "authorship_tag": "ABX9TyOxkYrj55A0a/9g3MJxpwgw",
      "include_colab_link": true
    },
    "kernelspec": {
      "name": "python3",
      "display_name": "Python 3"
    },
    "language_info": {
      "name": "python"
    }
  },
  "cells": [
    {
      "cell_type": "markdown",
      "metadata": {
        "id": "view-in-github",
        "colab_type": "text"
      },
      "source": [
        "<a href=\"https://colab.research.google.com/github/himanshusharmaa52/Python-Basics/blob/main/FileEH.ipynb\" target=\"_parent\"><img src=\"https://colab.research.google.com/assets/colab-badge.svg\" alt=\"Open In Colab\"/></a>"
      ]
    },
    {
      "cell_type": "code",
      "execution_count": null,
      "metadata": {
        "id": "CgfKcruD_Rxh"
      },
      "outputs": [],
      "source": []
    },
    {
      "cell_type": "markdown",
      "source": [
        "QUESTION-1. What is the difference between interpreted and compiled languages?\n",
        "\n",
        "ANSWER -1\n",
        "\n",
        "\t•\tInterpreted Languages: Code is executed line by line by an interpreter (e.g., Python, JavaScript).\n",
        "\t•\tCompiled Languages: Code is first converted into machine code by a compiler before execution (e.g., C, C++)."
      ],
      "metadata": {
        "id": "Rtfq-b4R_1e0"
      }
    },
    {
      "cell_type": "markdown",
      "source": [
        "QUESTION 2. What is exception handling in Python?\n",
        "\n",
        "ANSWER 2\n",
        "\n",
        "Exception handling in Python helps manage runtime errors using try, except, finally, and else blocks.\n",
        "\n"
      ],
      "metadata": {
        "id": "IR_7mXnq_96p"
      }
    },
    {
      "cell_type": "markdown",
      "source": [
        "QUESTION- 3. What is the purpose of the finally block in exception handling?\n",
        "\n",
        "answer 3\n",
        "\n",
        "The finally block is executed regardless of whether an exception occurs or not, often used for resource cleanup.\n"
      ],
      "metadata": {
        "id": "J4wNqqxTAGBI"
      }
    },
    {
      "cell_type": "markdown",
      "source": [
        " Question 4. What is logging in Python?\n",
        "\n",
        "Answer 4\n",
        "\n",
        "Logging is used to record messages for debugging, tracking errors, and monitoring applications using the logging module."
      ],
      "metadata": {
        "id": "6jfeS7WfAQep"
      }
    },
    {
      "cell_type": "markdown",
      "source": [
        "Question 5. What is the significance of the __del__ method in Python?\n",
        "\n",
        "Answer 5\n",
        "\n",
        "The __del__ method is a destructor that is called when an object is deleted or goes out of scope.\n",
        "\n"
      ],
      "metadata": {
        "id": "7FeA4a0aAXsv"
      }
    },
    {
      "cell_type": "markdown",
      "source": [
        "QUESTION 6. What is the difference between import and from ... import in Python?\n",
        "\n",
        "ANSWER 6\n",
        "\n",
        "\t•\timport module_name imports the whole module.\n",
        "\t•\tfrom module_name import function_name imports a specific function from a module."
      ],
      "metadata": {
        "id": "9R4UZI7KAgT8"
      }
    },
    {
      "cell_type": "markdown",
      "source": [
        "Question7. How can you handle multiple exceptions in Python?\n",
        "\n",
        "answer7\n",
        "Using multiple except blocks or a single except block with a tuple:"
      ],
      "metadata": {
        "id": "ha857SuWAoix"
      }
    },
    {
      "cell_type": "markdown",
      "source": [
        "Question 8. What is the purpose of the with statement when handling files in Python?\n",
        "\n",
        "ANSWER 8\n",
        "\n",
        "It ensures that files are properly closed after use, even if an error occurs"
      ],
      "metadata": {
        "id": "ELGWsFBUBCxJ"
      }
    },
    {
      "cell_type": "markdown",
      "source": [
        "Question 9. What is the difference between multithreading and multiprocessing?\n",
        "\n",
        "Answer 9\n",
        "\t•\tMultithreading: Multiple threads run within the same process, sharing memory.\n",
        "\t•\tMultiprocessing: Multiple processes run separately, each with its own memory.\n",
        "\n",
        "⸻\n"
      ],
      "metadata": {
        "id": "-7OTy1hXBKxZ"
      }
    },
    {
      "cell_type": "markdown",
      "source": [
        "Question-10. What are the advantages of using logging in a program?\n",
        "\n",
        "Answer\n",
        "\t•\tHelps in debugging\n",
        "\t•\tTracks events in a program\n",
        "\t•\tProvides error reports"
      ],
      "metadata": {
        "id": "A6MLfdpHBRx1"
      }
    },
    {
      "cell_type": "markdown",
      "source": [
        "Question 11. What is memory management in Python?\n",
        "\n",
        "Answer 11\n",
        "\n",
        "Python manages memory using dynamic memory allocation, garbage collection, and reference counting."
      ],
      "metadata": {
        "id": "RItJFreFBXu0"
      }
    },
    {
      "cell_type": "markdown",
      "source": [
        "Question 12. What are the basic steps involved in exception handling in Python?\n",
        "\n",
        "Answer 12\n",
        "\n",
        "\t1.\tUse try to write the risky code.\n",
        "\t2.\tUse except to catch errors.\n",
        "\t3.\tUse finally for cleanup.\n",
        "\t4.\tUse else to execute if no exception occurs."
      ],
      "metadata": {
        "id": "gw_7IWiMBgSe"
      }
    },
    {
      "cell_type": "markdown",
      "source": [
        "Question 13. Why is memory management important in Python?\n",
        "\n",
        "Answer 13\n",
        "\n",
        "Efficient memory management helps optimize performance, prevent memory leaks, and avoid crashes.\n"
      ],
      "metadata": {
        "id": "XVcHXbIeBl2_"
      }
    },
    {
      "cell_type": "markdown",
      "source": [
        "Question 14. What is the role of try and except in exception handling?\n",
        "\n",
        "Answer 14\n",
        "\n",
        "\t•\ttry: Contains code that may raise an exception.\n",
        "\t•\texcept: Handles the exception if one occurs.\n"
      ],
      "metadata": {
        "id": "1CrI0drgBspn"
      }
    },
    {
      "cell_type": "markdown",
      "source": [
        "Question 15. How does Python’s garbage collection system work?\n",
        "\n",
        "Answer 15\n",
        "\n",
        "Python uses reference counting and cyclic garbage collection to free unused memory."
      ],
      "metadata": {
        "id": "5958X6ArBy6w"
      }
    },
    {
      "cell_type": "markdown",
      "source": [
        "QUESTION 16. What is the purpose of the else block in exception handling?\n",
        "\n",
        "answer 16\n",
        "\n",
        "The else block runs only if no exception occurs in the try block."
      ],
      "metadata": {
        "id": "2H79ow47B9oK"
      }
    },
    {
      "cell_type": "markdown",
      "source": [
        "Question 17. What are the common logging levels in Python?\n",
        "\n",
        "Answer 17\n",
        "\n",
        "\t1.\tDEBUG\n",
        "\t2.\tINFO\n",
        "\t3.\tWARNING\n",
        "\t4.\tERROR\n",
        "\t5.\tCRITICAL"
      ],
      "metadata": {
        "id": "1GcfWQueCC9N"
      }
    },
    {
      "cell_type": "markdown",
      "source": [
        "Question 18. What is the difference between os.fork() and multiprocessing in Python?\n",
        "\n",
        "Answer 18\n",
        "\n",
        "\t•\tos.fork(): Used in Unix to create a child process.\n",
        "\t•\tmultiprocessing: Cross-platform way to create multiple processes in Python.\n",
        "\n",
        "⸻\n"
      ],
      "metadata": {
        "id": "Q7LNjMHMCJ1U"
      }
    },
    {
      "cell_type": "markdown",
      "source": [
        "Question 19. What is the importance of closing a file in Python?\n",
        "\n",
        "Answer 19\n",
        "\n",
        "Closing a file ensures all changes are saved and releases system resources"
      ],
      "metadata": {
        "id": "XdIDxcGGCNs9"
      }
    },
    {
      "cell_type": "markdown",
      "source": [
        "Question 20. What is the difference between file.read() and file.readline() in Python?\n",
        "\n",
        "Answer\n",
        "\n",
        "\t•\tfile.read(): Reads the whole file.\n",
        "\t•\tfile.readline(): Reads one line at a time."
      ],
      "metadata": {
        "id": "KAaZ4HV8CVGJ"
      }
    },
    {
      "cell_type": "markdown",
      "source": [
        "Question 21. What is the logging module in Python used for?\n",
        "\n",
        "Answer 21\n",
        "\n",
        "It is used for tracking events, debugging, and storing error messages.\n"
      ],
      "metadata": {
        "id": "rnDTTpJLCbzk"
      }
    },
    {
      "cell_type": "markdown",
      "source": [
        "Question 22. What is the os module in Python used for in file handling?\n",
        "\n",
        "Answer 22\n",
        "\n",
        "The os module provides functions to interact with the operating system (e.g., file operations)."
      ],
      "metadata": {
        "id": "1cH-6RLoCfnG"
      }
    },
    {
      "cell_type": "markdown",
      "source": [
        "Question 23. What are the challenges associated with memory management in Python?\n",
        "\n",
        "Answer 23\n",
        "\n",
        "\t•\tMemory fragmentation\n",
        "\t•\tCircular references\n",
        "\t•\tHigh memory consumption in large programs"
      ],
      "metadata": {
        "id": "6ah5vCrGCmS7"
      }
    },
    {
      "cell_type": "markdown",
      "source": [
        "Question 24. How do you raise an exception manually in Python?\n",
        "\n",
        "ANSWER 24\n",
        "\n",
        "Using the raise keyword:\n",
        "raise ValueError(\"Invalid input\")"
      ],
      "metadata": {
        "id": "ugIEItV6CnqR"
      }
    },
    {
      "cell_type": "markdown",
      "source": [
        "Question 25. Why is it important to use multithreading in certain applications?\n",
        "\n",
        "Answer 25\n",
        "\n",
        "Multithreading improves performance by allowing multiple tasks to run concurrently."
      ],
      "metadata": {
        "id": "-x9k3zTGC5Dr"
      }
    },
    {
      "cell_type": "code",
      "source": [],
      "metadata": {
        "id": "_JRKP7cjC-oh"
      },
      "execution_count": null,
      "outputs": []
    },
    {
      "cell_type": "markdown",
      "source": [
        "#**Practical Questions**"
      ],
      "metadata": {
        "id": "F16nlT1-C_J_"
      }
    },
    {
      "cell_type": "markdown",
      "source": [
        "Q1. How can you open a file for writing in Python and write a string to it?"
      ],
      "metadata": {
        "id": "tYEkaJcJDNsL"
      }
    },
    {
      "cell_type": "code",
      "source": [
        "with open(\"file.txt\", \"w\") as file:\n",
        "    file.write(\"Hello, World!\")"
      ],
      "metadata": {
        "id": "HdmqP9L2DPr0"
      },
      "execution_count": 1,
      "outputs": []
    },
    {
      "cell_type": "markdown",
      "source": [
        "Q2. Write a Python program to read the contents of a file and print each line."
      ],
      "metadata": {
        "id": "S7Mzk_wtDTMo"
      }
    },
    {
      "cell_type": "code",
      "source": [
        "with open(\"file.txt\", \"r\") as file:\n",
        "    for line in file:\n",
        "        print(line.strip())"
      ],
      "metadata": {
        "colab": {
          "base_uri": "https://localhost:8080/"
        },
        "id": "YN0eQAghDVm8",
        "outputId": "4412d623-e638-45fd-afaf-eebdd8f77acc"
      },
      "execution_count": 3,
      "outputs": [
        {
          "output_type": "stream",
          "name": "stdout",
          "text": [
            "Hello, World!\n"
          ]
        }
      ]
    },
    {
      "cell_type": "markdown",
      "source": [
        "Q3. How would you handle a case where the file doesn’t exist while trying to open it for reading?"
      ],
      "metadata": {
        "id": "VtC6yZ8fDbGC"
      }
    },
    {
      "cell_type": "code",
      "source": [
        "try:\n",
        "    with open(\"file.txt\", \"r\") as file:\n",
        "        content = file.read()\n",
        "except FileNotFoundError:\n",
        "    print(\"File not found.\")"
      ],
      "metadata": {
        "id": "hkefmjUMDeto"
      },
      "execution_count": 2,
      "outputs": []
    },
    {
      "cell_type": "markdown",
      "source": [
        "Q4. Write a Python script that reads from one file and writes its content to another file."
      ],
      "metadata": {
        "id": "ZlD-NxkmDiea"
      }
    },
    {
      "cell_type": "code",
      "source": [
        "#with open(\"source.txt\", \"r\") as source, open(\"destination.txt\", \"w\") as dest:\n",
        "   # dest.write(source.read())"
      ],
      "metadata": {
        "id": "5pCvPOGoDmN2"
      },
      "execution_count": 6,
      "outputs": []
    },
    {
      "cell_type": "markdown",
      "source": [
        "Q5. How would you catch and handle division by zero error in Python?"
      ],
      "metadata": {
        "id": "BGqwUY9eD2TU"
      }
    },
    {
      "cell_type": "code",
      "source": [
        "try:\n",
        "    result = 10 / 0\n",
        "except ZeroDivisionError:\n",
        "    print(\"Cannot divide by zero!\")"
      ],
      "metadata": {
        "colab": {
          "base_uri": "https://localhost:8080/"
        },
        "id": "o0VSnOB1D5fo",
        "outputId": "1eab790a-45ab-4442-deea-ba78ab00e96e"
      },
      "execution_count": 7,
      "outputs": [
        {
          "output_type": "stream",
          "name": "stdout",
          "text": [
            "Cannot divide by zero!\n"
          ]
        }
      ]
    },
    {
      "cell_type": "markdown",
      "source": [
        "Q6. Write a Python program that logs an error message to a log file when a division by zero exception occurs."
      ],
      "metadata": {
        "id": "PD35185vD8Pp"
      }
    },
    {
      "cell_type": "code",
      "source": [
        "import logging\n",
        "logging.basicConfig(filename=\"error.log\", level=logging.ERROR)\n",
        "\n",
        "try:\n",
        "    result = 10 / 0\n",
        "except ZeroDivisionError:\n",
        "    logging.error(\"Division by zero error occurred.\")"
      ],
      "metadata": {
        "colab": {
          "base_uri": "https://localhost:8080/"
        },
        "id": "UrSc8c9HEA0H",
        "outputId": "96cd7790-d433-4fc3-a351-8c222a62748f"
      },
      "execution_count": 8,
      "outputs": [
        {
          "output_type": "stream",
          "name": "stderr",
          "text": [
            "ERROR:root:Division by zero error occurred.\n"
          ]
        }
      ]
    },
    {
      "cell_type": "markdown",
      "source": [
        "Q7. How do you log information at different levels using the logging module?"
      ],
      "metadata": {
        "id": "tOhV4FEVGXHn"
      }
    },
    {
      "cell_type": "code",
      "source": [
        "import logging\n",
        "logging.basicConfig(level=logging.DEBUG)\n",
        "\n",
        "logging.debug(\"This is a debug message\")\n",
        "logging.info(\"This is an info message\")\n",
        "logging.warning(\"This is a warning\")\n",
        "logging.error(\"This is an error\")\n",
        "logging.critical(\"This is critical\")"
      ],
      "metadata": {
        "colab": {
          "base_uri": "https://localhost:8080/"
        },
        "id": "OYsfpImhGjEO",
        "outputId": "1c4bf7ca-b297-4167-b2af-06c70eeead83"
      },
      "execution_count": 9,
      "outputs": [
        {
          "output_type": "stream",
          "name": "stderr",
          "text": [
            "WARNING:root:This is a warning\n",
            "ERROR:root:This is an error\n",
            "CRITICAL:root:This is critical\n"
          ]
        }
      ]
    },
    {
      "cell_type": "markdown",
      "source": [
        "Q8. Write a Python program that reads a file and prints the number of occurrences of a specific word."
      ],
      "metadata": {
        "id": "8r1hfWYvGpGh"
      }
    },
    {
      "cell_type": "code",
      "source": [
        "word_to_find = \"Python\"\n",
        "count = 0\n",
        "\n",
        "with open(\"file.txt\", \"r\") as file:\n",
        "    for line in file:\n",
        "        count += line.count(word_to_find)\n",
        "\n",
        "print(f\"Occurrences of '{word_to_find}':\", count)"
      ],
      "metadata": {
        "colab": {
          "base_uri": "https://localhost:8080/"
        },
        "id": "u9fek1lOGpwp",
        "outputId": "e97f2752-c119-4669-8c4d-e32f190b622b"
      },
      "execution_count": 11,
      "outputs": [
        {
          "output_type": "stream",
          "name": "stdout",
          "text": [
            "Occurrences of 'Python': 0\n"
          ]
        }
      ]
    },
    {
      "cell_type": "markdown",
      "source": [
        "Q9. Write a Python program that writes to a log file when an error occurs during file handling."
      ],
      "metadata": {
        "id": "oZL1FHxaGudK"
      }
    },
    {
      "cell_type": "code",
      "source": [
        "import logging\n",
        "logging.basicConfig(filename=\"file_errors.log\", level=logging.ERROR)\n",
        "\n",
        "try:\n",
        "    with open(\"non_existent.txt\", \"r\") as file:\n",
        "        data = file.read()\n",
        "except FileNotFoundError:\n",
        "    logging.error(\"File not found error occurred.\")"
      ],
      "metadata": {
        "colab": {
          "base_uri": "https://localhost:8080/"
        },
        "id": "U_88ubuBG0VR",
        "outputId": "6614ee35-39c1-4189-e003-a64309166c20"
      },
      "execution_count": 10,
      "outputs": [
        {
          "output_type": "stream",
          "name": "stderr",
          "text": [
            "ERROR:root:File not found error occurred.\n"
          ]
        }
      ]
    },
    {
      "cell_type": "markdown",
      "source": [
        "Q10. How can you append data to an existing file in Python?\n"
      ],
      "metadata": {
        "id": "urfS6VT3G3yw"
      }
    },
    {
      "cell_type": "code",
      "source": [
        "with open(\"file.txt\", \"a\") as file:\n",
        "    file.write(\"\\nAppending new data.\")"
      ],
      "metadata": {
        "id": "9Aln7fyQHZoG"
      },
      "execution_count": 13,
      "outputs": []
    },
    {
      "cell_type": "markdown",
      "source": [
        "Q11. Write a Python program that uses a try-except block to handle an error when attempting to access a dictionary key that doesn’t exist."
      ],
      "metadata": {
        "id": "W9jjHFDqHcny"
      }
    },
    {
      "cell_type": "code",
      "source": [
        "data = {\"name\": \"Alice\", \"age\": 25}\n",
        "\n",
        "try:\n",
        "    print(data[\"address\"])  # Key doesn't exist\n",
        "except KeyError:\n",
        "    print(\"Key not found in dictionary\")"
      ],
      "metadata": {
        "colab": {
          "base_uri": "https://localhost:8080/"
        },
        "id": "-NNSLJXQHera",
        "outputId": "050d3063-e177-49b9-fdff-433838769e3c"
      },
      "execution_count": 14,
      "outputs": [
        {
          "output_type": "stream",
          "name": "stdout",
          "text": [
            "Key not found in dictionary\n"
          ]
        }
      ]
    },
    {
      "cell_type": "markdown",
      "source": [
        "Q12. Write a program that demonstrates using multiple except blocks to handle different types of exceptions."
      ],
      "metadata": {
        "id": "kSWLxmGQHhHp"
      }
    },
    {
      "cell_type": "code",
      "source": [
        "try:\n",
        "    x = int(\"abc\")  # This will cause ValueError\n",
        "except ValueError:\n",
        "    print(\"ValueError: Invalid conversion\")\n",
        "except ZeroDivisionError:\n",
        "    print(\"ZeroDivisionError: Division by zero\")\n",
        "except Exception as e:\n",
        "    print(\"Other Exception:\", e)"
      ],
      "metadata": {
        "colab": {
          "base_uri": "https://localhost:8080/"
        },
        "id": "ZepBzjVgHjnf",
        "outputId": "e877f7c6-84ec-4e98-d6e4-be644f3f617e"
      },
      "execution_count": 16,
      "outputs": [
        {
          "output_type": "stream",
          "name": "stdout",
          "text": [
            "ValueError: Invalid conversion\n"
          ]
        }
      ]
    },
    {
      "cell_type": "markdown",
      "source": [
        "Q13. How would you check if a file exists before attempting to read it in Python?\n",
        "\n"
      ],
      "metadata": {
        "id": "PM8Sh0AuHljd"
      }
    },
    {
      "cell_type": "code",
      "source": [
        "import os\n",
        "\n",
        "filename = \"file.txt\"\n",
        "if os.path.exists(filename):\n",
        "    with open(filename, \"r\") as file:\n",
        "        print(file.read())\n",
        "else:\n",
        "    print(\"File does not exist\")"
      ],
      "metadata": {
        "colab": {
          "base_uri": "https://localhost:8080/"
        },
        "id": "zZ4sWaGKHpXd",
        "outputId": "9f286fd4-b520-4fbb-f5c7-8d42ce3ac851"
      },
      "execution_count": 15,
      "outputs": [
        {
          "output_type": "stream",
          "name": "stdout",
          "text": [
            "Hello, World!\n",
            "Appending new data.\n",
            "Appending new data.\n"
          ]
        }
      ]
    },
    {
      "cell_type": "markdown",
      "source": [
        "Q14. Write a program that uses the logging module to log both informational and error messages."
      ],
      "metadata": {
        "id": "mzSRk0-MHtQe"
      }
    },
    {
      "cell_type": "code",
      "source": [
        "import logging\n",
        "\n",
        "logging.basicConfig(filename=\"app.log\", level=logging.INFO)\n",
        "\n",
        "logging.info(\"This is an informational message.\")\n",
        "try:\n",
        "    1 / 0\n",
        "except ZeroDivisionError:\n",
        "    logging.error(\"An error occurred: Division by zero\")"
      ],
      "metadata": {
        "colab": {
          "base_uri": "https://localhost:8080/"
        },
        "id": "TuPSnJlQHyaI",
        "outputId": "702fdf61-5a45-4192-b1c9-7aed1b653c46"
      },
      "execution_count": 17,
      "outputs": [
        {
          "output_type": "stream",
          "name": "stderr",
          "text": [
            "ERROR:root:An error occurred: Division by zero\n"
          ]
        }
      ]
    },
    {
      "cell_type": "markdown",
      "source": [
        "Q15. Write a Python program that prints the content of a file and handles the case when the file is empty."
      ],
      "metadata": {
        "id": "JPwb84-eH3zd"
      }
    },
    {
      "cell_type": "code",
      "source": [
        "filename = \"file.txt\"\n",
        "\n",
        "with open(filename, \"r\") as file:\n",
        "    content = file.read()\n",
        "    if content:\n",
        "        print(content)\n",
        "    else:\n",
        "        print(\"The file is empty.\")"
      ],
      "metadata": {
        "colab": {
          "base_uri": "https://localhost:8080/"
        },
        "id": "nglmIqEtH8ad",
        "outputId": "9c6f064a-e86a-4256-aefb-6ae171120b5b"
      },
      "execution_count": 18,
      "outputs": [
        {
          "output_type": "stream",
          "name": "stdout",
          "text": [
            "Hello, World!\n",
            "Appending new data.\n",
            "Appending new data.\n"
          ]
        }
      ]
    },
    {
      "cell_type": "markdown",
      "source": [
        "Q17. Write a Python program to create and write a list of numbers to a file, one number per line."
      ],
      "metadata": {
        "id": "jKfOnuweIYKh"
      }
    },
    {
      "cell_type": "code",
      "source": [
        "numbers = [1, 2, 3, 4, 5]\n",
        "\n",
        "with open(\"numbers.txt\", \"w\") as file:\n",
        "    for number in numbers:\n",
        "        file.write(str(number) + \"\\n\")"
      ],
      "metadata": {
        "id": "yXdJPvpGIZYH"
      },
      "execution_count": 22,
      "outputs": []
    },
    {
      "cell_type": "markdown",
      "source": [
        "Q18. How would you implement a basic logging setup that logs to a file with rotation after 1MB?"
      ],
      "metadata": {
        "id": "fpJdmQDaIbCn"
      }
    },
    {
      "cell_type": "code",
      "source": [
        "import logging\n",
        "from logging.handlers import RotatingFileHandler\n",
        "\n",
        "logger = logging.getLogger(\"RotatingLog\")\n",
        "logger.setLevel(logging.INFO)\n",
        "\n",
        "handler = RotatingFileHandler(\"app.log\", maxBytes=1024*1024, backupCount=5)\n",
        "logger.addHandler(handler)\n",
        "\n",
        "logger.info(\"This is a log message with rotation.\")"
      ],
      "metadata": {
        "colab": {
          "base_uri": "https://localhost:8080/"
        },
        "id": "xhP2FmMqIeea",
        "outputId": "b4097b48-adf5-419b-988a-c13bdfe15032"
      },
      "execution_count": 21,
      "outputs": [
        {
          "output_type": "stream",
          "name": "stderr",
          "text": [
            "INFO:RotatingLog:This is a log message with rotation.\n"
          ]
        }
      ]
    },
    {
      "cell_type": "markdown",
      "source": [
        "Q19. Write a program that handles both IndexError and KeyError using a try-except block."
      ],
      "metadata": {
        "id": "lDO344piIkVW"
      }
    },
    {
      "cell_type": "code",
      "source": [
        "data = {\"name\": \"Alice\"}\n",
        "lst = [1, 2, 3]\n",
        "\n",
        "try:\n",
        "    print(data[\"age\"])  # KeyError\n",
        "    print(lst[5])  # IndexError\n",
        "except KeyError:\n",
        "    print(\"Key not found in dictionary\")\n",
        "except IndexError:\n",
        "    print(\"Index out of range in list\")"
      ],
      "metadata": {
        "colab": {
          "base_uri": "https://localhost:8080/"
        },
        "id": "zNhfPMUjImf9",
        "outputId": "3ed9aee6-a0f4-4d2e-eb74-8667613523bb"
      },
      "execution_count": 23,
      "outputs": [
        {
          "output_type": "stream",
          "name": "stdout",
          "text": [
            "Key not found in dictionary\n"
          ]
        }
      ]
    },
    {
      "cell_type": "markdown",
      "source": [
        "Q20. How would you open a file and read its contents using a context manager in Python?"
      ],
      "metadata": {
        "id": "zqoYWuhZIo5Q"
      }
    },
    {
      "cell_type": "code",
      "source": [
        "with open(\"file.txt\", \"r\") as file:\n",
        "    content = file.read()\n",
        "    print(content)"
      ],
      "metadata": {
        "colab": {
          "base_uri": "https://localhost:8080/"
        },
        "id": "x8F6zGnqIr5B",
        "outputId": "0043b7d2-0a38-42bb-e605-64ef2d195a8b"
      },
      "execution_count": 24,
      "outputs": [
        {
          "output_type": "stream",
          "name": "stdout",
          "text": [
            "Hello, World!\n",
            "Appending new data.\n",
            "Appending new data.\n"
          ]
        }
      ]
    },
    {
      "cell_type": "markdown",
      "source": [
        "Q21. Write a Python program that reads a file and prints the number of occurrences of a specific word."
      ],
      "metadata": {
        "id": "7FTnHwB7IveW"
      }
    },
    {
      "cell_type": "code",
      "source": [
        "word_to_find = \"Python\"\n",
        "count = 0\n",
        "\n",
        "with open(\"file.txt\", \"r\") as file:\n",
        "    for line in file:\n",
        "        count += line.lower().count(word_to_find.lower())\n",
        "\n",
        "print(f\"Occurrences of '{word_to_find}':\", count)"
      ],
      "metadata": {
        "colab": {
          "base_uri": "https://localhost:8080/"
        },
        "id": "1IU-pA_1IyvS",
        "outputId": "6176e201-b135-40fc-9759-ea56323eec5b"
      },
      "execution_count": 25,
      "outputs": [
        {
          "output_type": "stream",
          "name": "stdout",
          "text": [
            "Occurrences of 'Python': 0\n"
          ]
        }
      ]
    },
    {
      "cell_type": "markdown",
      "source": [
        "Q22. How can you check if a file is empty before attempting to read its contents?"
      ],
      "metadata": {
        "id": "1DMaWJVPI03J"
      }
    },
    {
      "cell_type": "code",
      "source": [
        "import os\n",
        "\n",
        "filename = \"file.txt\"\n",
        "\n",
        "if os.path.exists(filename) and os.stat(filename).st_size == 0:\n",
        "    print(\"The file is empty.\")\n",
        "else:\n",
        "    with open(filename, \"r\") as file:\n",
        "        print(file.read())"
      ],
      "metadata": {
        "colab": {
          "base_uri": "https://localhost:8080/"
        },
        "id": "IBRIZ78dI3gk",
        "outputId": "c8685993-0e21-4aae-b275-5fd507c87f17"
      },
      "execution_count": 26,
      "outputs": [
        {
          "output_type": "stream",
          "name": "stdout",
          "text": [
            "Hello, World!\n",
            "Appending new data.\n",
            "Appending new data.\n"
          ]
        }
      ]
    },
    {
      "cell_type": "markdown",
      "source": [
        "Q23. Write a Python program that writes to a log file when an error occurs during file handling."
      ],
      "metadata": {
        "id": "JtwE0m5dI5ed"
      }
    },
    {
      "cell_type": "code",
      "source": [
        "import logging\n",
        "\n",
        "logging.basicConfig(filename=\"file_errors.log\", level=logging.ERROR)\n",
        "\n",
        "try:\n",
        "    with open(\"non_existent.txt\", \"r\") as file:\n",
        "        data = file.read()\n",
        "except FileNotFoundError:\n",
        "    logging.error(\"File not found error occurred.\")"
      ],
      "metadata": {
        "colab": {
          "base_uri": "https://localhost:8080/"
        },
        "id": "AICT2AYRI87o",
        "outputId": "631e2277-1c1e-4bfd-c181-021cfe23d56c"
      },
      "execution_count": 27,
      "outputs": [
        {
          "output_type": "stream",
          "name": "stderr",
          "text": [
            "ERROR:root:File not found error occurred.\n"
          ]
        }
      ]
    }
  ]
}