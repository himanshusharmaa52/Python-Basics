{
  "nbformat": 4,
  "nbformat_minor": 0,
  "metadata": {
    "colab": {
      "provenance": [],
      "authorship_tag": "ABX9TyO8ksf7cPFJIrf0YPyO3QAN",
      "include_colab_link": true
    },
    "kernelspec": {
      "name": "python3",
      "display_name": "Python 3"
    },
    "language_info": {
      "name": "python"
    }
  },
  "cells": [
    {
      "cell_type": "markdown",
      "metadata": {
        "id": "view-in-github",
        "colab_type": "text"
      },
      "source": [
        "<a href=\"https://colab.research.google.com/github/himanshusharmaa52/Python-Basics/blob/main/datatoolkit.ipynb\" target=\"_parent\"><img src=\"https://colab.research.google.com/assets/colab-badge.svg\" alt=\"Open In Colab\"/></a>"
      ]
    },
    {
      "cell_type": "markdown",
      "source": [
        "\n",
        "Question 1\n",
        "What is NumPy, and why is it widely used in Python?\n",
        "\n",
        "Answer 1\n",
        "\n",
        "NumPy is a Python library that provides support for large, multi-dimensional arrays and matrices, along with a collection of mathematical functions to operate on these arrays.\n",
        "It's widely used due to its efficiency (written partially in C), versatility (numerous functions and tools), and widespread adoption in data science.\n",
        "\n",
        "Question 2\n",
        "\n",
        "How does broadcasting work in NumPy?\n",
        "\n",
        "Answer 2\n",
        "\n",
        "Broadcasting allows NumPy to perform arithmetic operations on arrays with different shapes. NumPy automatically expands the smaller array to match the shape of the larger array, enabling element-wise operations.\n",
        "\n",
        "Question 3\n",
        "\n",
        "What is a Pandas DataFrame?\n",
        "\n",
        "Answer 3\n",
        "\n",
        "A Pandas DataFrame is a 2-dimensional labeled data structure with columns of potentially different types. It's similar to a spreadsheet or SQL table, offering powerful data manipulation and analysis capabilities.\n",
        "\n",
        "Question 4\n",
        "\n",
        "Explain the use of the groupby() method in Pandas.\n",
        "\n",
        "Answer 4\n",
        "\n",
        "The groupby() method is used to group rows in a DataFrame based on the values of one or more columns. It's essential for aggregation, transformation, and exploratory data analysis.\n",
        "\n",
        "Question 5\n",
        "\n",
        "Why is Seaborn preferred for statistical visualizations?\n",
        "\n",
        "Answer 5\n",
        "\n",
        "Seaborn is built on top of Matplotlib and provides a high-level interface for creating informative statistical graphics. It simplifies the process of creating complex visualizations with less code.\n",
        "\n",
        "Question 6\n",
        "\n",
        "What are the differences between NumPy arrays and Python lists?\n",
        "\n",
        "Answer 6\n",
        "\n",
        "NumPy arrays are homogeneous (elements of the same type), support element-wise operations, and are more memory-efficient. Python lists can store elements of different types and don't support direct element-wise operations.\n",
        "\n",
        "Question 7\n",
        "\n",
        "What is a heatmap, and when should it be used?\n",
        "\n",
        "Answer 7\n",
        "\n",
        "A heatmap is a graphical representation of data where values are depicted using colors. It's used to visualize patterns, correlations, and variations in data, especially in matrices or tables.\n",
        "\n",
        "Question 8\n",
        "\n",
        "What does the term \"vectorized operation\" mean in NumPy?\n",
        "\n",
        "Answer 8\n",
        "\n",
        "Vectorized operations in NumPy apply a function to an entire array at once, rather than iterating through elements individually. This leads to significant performance improvements.\n",
        "\n",
        "Question 9\n",
        "\n",
        "How does Matplotlib differ from Plotly?\n",
        "\n",
        "Answer 9\n",
        "\n",
        "Matplotlib is a static plotting library, while Plotly is an interactive plotting library. Plotly allows for zooming, panning, and tooltips, enhancing data exploration.\n",
        "\n",
        "Question 10\n",
        "\n",
        "What is the significance of hierarchical indexing in Pandas?\n",
        "\n",
        "Answer 10\n",
        "\n",
        "Hierarchical indexing allows for multiple levels of indexing on a single axis, enabling you to work with higher-dimensional data in a tabular format.\n",
        "\n",
        "Question 11?\n",
        "\n",
        "What is the role of Seaborn's pairplot() function?\n",
        "\n",
        "Answer 11\n",
        "\n",
        "The pairplot() function creates a matrix of scatter plots for each pair of variables in a DataFrame, helping to visualize relationships and distributions.\n",
        "\n",
        "\n",
        "Question 12?\n",
        "\n",
        "What is the purpose of the describe() function in Pandas?\n",
        "\n",
        "Answer 12\n",
        "\n",
        "The describe() function generates descriptive statistics of a DataFrame, including measures of central tendency, dispersion, and shape of the distribution.\n",
        "\n",
        "\n",
        "Question 13?\n",
        "\n",
        "\n",
        "Why is handling missing data important in Pandas?\n",
        "\n",
        "\n",
        "Answer 13\n",
        "\n",
        "Missing data can lead to biased or incorrect analysis. Pandas provides tools to identify, impute, or remove missing values, ensuring data quality.\n",
        "\n",
        "Question 14\n",
        "\n",
        "What are the benefits of using Plotly for data visualization?\n",
        "\n",
        "answer 14\n",
        "\n",
        "Plotly offers interactive plots, web-based visualizations, and a wide range of chart types, making it suitable for presentations and exploratory analysis.\n",
        "\n",
        "Question 15\n",
        "\n",
        "How does NumPy handle multidimensional arrays?\n",
        "\n",
        "answer 15\n",
        "\n",
        "NumPy represents multidimensional arrays as ndarray objects, which are efficient and support various indexing, slicing, and manipulation operations.\n",
        "\n",
        "Question 16\n",
        "\n",
        "What is the role of Bokeh in data visualization?\n",
        "\n",
        "answer 16\n",
        "\n",
        "Bokeh is an interactive visualization library that focuses on web-based plots and dashboards. It's suitable for creating complex and interactive visualizations.\n",
        "\n",
        "Question 17\n",
        "\n",
        "Explain the difference between apply() and map() in Pandas.\n",
        "\n",
        "answer 17\n",
        "\n",
        "apply() operates on rows or columns of a DataFrame, while map() operates element-wise on a Series.\n",
        "\n",
        "Question 18\n",
        "\n",
        "What are some advanced features of NumPy?\n",
        "\n",
        "answer 18\n",
        "\n",
        "Advanced features include broadcasting, masked arrays, memory mapping, and integration with other scientific computing libraries.\n",
        "\n",
        "Question 19\n",
        "\n",
        "How does Pandas simplify time series analysis?\n",
        "\n",
        "answer 19\n",
        "\n",
        "Pandas provides specialized data structures and functions for working with time series data, including resampling, shifting, and rolling window calculations.\n",
        "\n",
        "Question 20\n",
        "What is the role of a pivot table in Pandas?\n",
        "\n",
        "answer 20\n",
        "\n",
        "A pivot table is used to summarize and aggregate data in a DataFrame, creating a new table with specified rows, columns, and values.\n",
        "\n",
        "Question 21\n",
        "\n",
        "Why is NumPy's array slicing faster than Python's list slicing?\n",
        "\n",
        "answer 21\n",
        "\n",
        "NumPy arrays are stored contiguously in memory, allowing for efficient slicing and indexing operations.\n",
        "\n",
        "Question 22\n",
        "\n",
        "What are some common use cases for Seaborn?\n",
        "\n",
        "answer 22\n",
        "\n",
        "Seaborn is used for statistical data visualization, creating heatmaps, pair plots, violin plots, and other complex visualizations."
      ],
      "metadata": {
        "id": "R2VB5XeI9r1w"
      }
    },
    {
      "cell_type": "code",
      "execution_count": null,
      "metadata": {
        "id": "xFkmZq4R9rOL"
      },
      "outputs": [],
      "source": []
    },
    {
      "cell_type": "markdown",
      "source": [
        "Practical Answers\n",
        "\n",
        "Q-1\n",
        "\n",
        "How do you create a 2D NumPy array and calculate the sum of each row?"
      ],
      "metadata": {
        "id": "GiO77y7o_zkA"
      }
    },
    {
      "cell_type": "code",
      "source": [
        "import numpy as np\n",
        "\n",
        "# Create a 2D NumPy array\n",
        "arr = np.array([[1, 2, 3], [4, 5, 6], [7, 8, 9]])\n",
        "\n",
        "# Calculate the sum of each row\n",
        "row_sums = np.sum(arr, axis=1)\n",
        "\n",
        "print(row_sums)"
      ],
      "metadata": {
        "id": "AOOCulW-_39W"
      },
      "execution_count": null,
      "outputs": []
    },
    {
      "cell_type": "code",
      "source": [
        "#Write a Pandas script to find the mean of a specific column in a DataFrame.\n",
        "\n",
        "#ans2\n",
        "\n",
        "import pandas as pd\n",
        "\n",
        "# Create a sample DataFrame\n",
        "data = {'col1': [1, 2, 3, 4, 5], 'col2': [6, 7, 8, 9, 10]}\n",
        "df = pd.DataFrame(data)\n",
        "\n",
        "# Calculate the mean of 'col1'\n",
        "mean_col1 = df['col1'].mean()\n",
        "\n",
        "print(mean_col1)"
      ],
      "metadata": {
        "id": "Pk4JpT3-_9Dq"
      },
      "execution_count": null,
      "outputs": []
    },
    {
      "cell_type": "code",
      "source": [
        "#Create a scatter plot using Matplotlib.\n",
        "\n",
        "#ans3\n",
        "\n",
        "import matplotlib.pyplot as plt\n",
        "\n",
        "# Sample data\n",
        "x = [1, 2, 3, 4, 5]\n",
        "y = [2, 3, 5, 7, 11]\n",
        "\n",
        "# Create a scatter plot\n",
        "plt.scatter(x, y)\n",
        "plt.xlabel('X-axis')\n",
        "plt.ylabel('Y-axis')\n",
        "plt.title('Scatter Plot')\n",
        "plt.show()"
      ],
      "metadata": {
        "id": "rpUMF8Q3AEMK"
      },
      "execution_count": null,
      "outputs": []
    },
    {
      "cell_type": "code",
      "source": [
        "#How do you calculate the correlation matrix using Seaborn and visualize it with a heatmap?\n",
        "\n",
        "#ans4\n",
        "\n",
        "import seaborn as sns\n",
        "import matplotlib.pyplot as plt\n",
        "import pandas as pd\n",
        "\n",
        "# Sample DataFrame\n",
        "data = {'col1': [1, 2, 3, 4, 5], 'col2': [6, 7, 8, 9, 10], 'col3': [11, 12, 13, 14, 15]}\n",
        "df = pd.DataFrame(data)\n",
        "\n",
        "# Calculate the correlation matrix\n",
        "corr_matrix = df.corr()\n",
        "\n",
        "# Create a heatmap\n",
        "sns.heatmap(corr_matrix, annot=True)\n",
        "plt.title('Correlation Matrix')\n",
        "plt.show()"
      ],
      "metadata": {
        "id": "bHSyffNjANvX"
      },
      "execution_count": null,
      "outputs": []
    },
    {
      "cell_type": "code",
      "source": [
        "#Generate a bar plot using Plotly.\n",
        "\n",
        "import plotly.express as px\n",
        "# Sample data\n",
        "data = {'categories': ['A', 'B', 'C', 'D'], 'values': [20, 35, 30, 25]}\n",
        "\n",
        "# Create a bar plot\n",
        "fig = px.bar(data, x='categories', y='values')\n",
        "fig.show()"
      ],
      "metadata": {
        "id": "VpXVQhYCAWva"
      },
      "execution_count": null,
      "outputs": []
    },
    {
      "cell_type": "code",
      "source": [
        "#Create a DataFrame and add a new column based on an existing column.\n",
        "\n",
        "import pandas as pd\n",
        "\n",
        "# Sample DataFrame\n",
        "data = {'col1': [1, 2, 3, 4, 5]}\n",
        "df = pd.DataFrame(data)\n",
        "\n",
        "# Add a new column 'col2' based on 'col1'\n",
        "df['col2'] = df['col1'] * 2\n",
        "\n",
        "print(df)"
      ],
      "metadata": {
        "id": "CA_znmNOAoWW"
      },
      "execution_count": null,
      "outputs": []
    },
    {
      "cell_type": "code",
      "source": [
        "#Write a program to perform element-wise multiplication of two NumPy arrays.\n",
        "\n",
        "import numpy as np\n",
        "\n",
        "# Sample arrays\n",
        "arr1 = np.array([1, 2, 3])\n",
        "arr2 = np.array([4, 5, 6])\n",
        "\n",
        "# Element-wise multiplication\n",
        "result = arr1 * arr2\n",
        "\n",
        "print(result)"
      ],
      "metadata": {
        "id": "UljmqpP-AuMu"
      },
      "execution_count": null,
      "outputs": []
    },
    {
      "cell_type": "code",
      "source": [
        "#Create a line plot with multiple lines using Matplotlib.\n",
        "\n",
        "import matplotlib.pyplot as plt\n",
        "\n",
        "# Sample data\n",
        "x = [1, 2, 3, 4, 5]\n",
        "y1 = [2, 3, 5, 7, 11]\n",
        "y2 = [1, 4, 9, 16, 25]\n",
        "\n",
        "# Create a line plot\n",
        "plt.plot(x, y1, label='Line 1')\n",
        "plt.plot(x, y2, label='Line 2')\n",
        "plt.xlabel('X-axis')\n",
        "plt.ylabel('Y-axis')\n",
        "plt.title('Line Plot')"
      ],
      "metadata": {
        "id": "C6FLdxzvAx84"
      },
      "execution_count": null,
      "outputs": []
    },
    {
      "cell_type": "code",
      "source": [
        "#Create a 3D scatter plot using Plotly.\n",
        "\n",
        "import plotly.express as px\n",
        "\n",
        "# Sample data\n",
        "data = {'x': [1, 2, 3, 4, 5], 'y': [2, 3, 5, 7, 11], 'z': [1, 4, 9, 16, 25]}\n",
        "\n",
        "# Create a 3D scatter plot\n",
        "fig = px.scatter_3d(data, x='x', y='y', z='z')\n",
        "fig.show()"
      ],
      "metadata": {
        "id": "g4lJviW2A2Kn"
      },
      "execution_count": null,
      "outputs": []
    }
  ]
}