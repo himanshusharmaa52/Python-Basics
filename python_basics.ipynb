{
  "nbformat": 4,
  "nbformat_minor": 0,
  "metadata": {
    "colab": {
      "provenance": [],
      "authorship_tag": "ABX9TyP8P8ZOfL2DP1iAKA51WvM/",
      "include_colab_link": true
    },
    "kernelspec": {
      "name": "python3",
      "display_name": "Python 3"
    },
    "language_info": {
      "name": "python"
    }
  },
  "cells": [
    {
      "cell_type": "markdown",
      "metadata": {
        "id": "view-in-github",
        "colab_type": "text"
      },
      "source": [
        "<a href=\"https://colab.research.google.com/github/himanshusharmaa52/Python-Basics/blob/main/python_basics.ipynb\" target=\"_parent\"><img src=\"https://colab.research.google.com/assets/colab-badge.svg\" alt=\"Open In Colab\"/></a>"
      ]
    },
    {
      "cell_type": "code",
      "execution_count": null,
      "metadata": {
        "id": "_Wr9_GfI08ua"
      },
      "outputs": [],
      "source": []
    },
    {
      "cell_type": "markdown",
      "source": [
        "Python Basics Questions\n",
        "Question 1. What is Python, and why is it popular?\n",
        "\n",
        "Answer :\n",
        "\n",
        "Python is a high-level, interpreted programming language known for its simplicity and readability. It is popular because:\n",
        "\n",
        "It has simple and easy-to-read syntax.\n",
        "It supports multiple programming paradigms (procedural, object-oriented, and functional).\n",
        "It has a large standard library.\n",
        "It is widely used in web development, data science, automation, and artificial intelligence.\n",
        "\n",
        "Question 2. What is an interpreter in Python?\n",
        "\n",
        "Answer :\n",
        "\n",
        "An interpreter in Python is a program that executes Python code line by line rather than compiling it all at once. It makes debugging easier and allows for rapid development.\n",
        "\n",
        "Question 3. What are pre-defined keywords in Python?\n",
        "\n",
        "Answer :\n",
        "\n",
        "Pre-defined keywords in Python are reserved words that have a specific meaning and cannot be used as variable names. Examples include if, else, while, for, def, return, etc.\n",
        "\n",
        "Question 4. Can keywords be used as variable names?\n",
        "\n",
        "Answer :\n",
        "\n",
        "No, keywords cannot be used as variable names because they are reserved for specific functions in Python.\n",
        "\n",
        "Question 5. What is mutability in Python?\n",
        "\n",
        "Answer :\n",
        "\n",
        "Mutability in Python refers to whether an object can be changed after it is created. Mutable objects (like lists and dictionaries) can be modified, while immutable objects (like tuples and strings) cannot.\n",
        "\n",
        "Question 6. Why are lists mutable, but tuples are immutable?\n",
        "\n",
        "Answer :\n",
        "\n",
        "Lists are mutable because they allow modification (adding, removing, or changing elements), whereas tuples are immutable because their structure is fixed and cannot be changed after creation.\n",
        "\n",
        "Question 7. What is the difference between == and is operators in Python?\n",
        "\n",
        "Answer :\n",
        "\n",
        "== checks for value equality (if two variables have the same value).\n",
        "is checks for identity equality (if two variables refer to the same object in memory).\n",
        "Question 8. What are logical operators in Python?\n",
        "\n",
        "Answer :\n",
        "\n",
        "Logical operators in Python include:\n",
        "\n",
        "and: Returns True if both conditions are true.\n",
        "or: Returns True if at least one condition is true.\n",
        "not: Returns the opposite of a condition.\n",
        " Question 9. What is type casting in Python?\n",
        "\n",
        " Answer :\n",
        "\n",
        "Type casting is converting one data type into another. Python supports implicit (automatic) and explicit (manual) type casting.\n",
        "\n",
        "Question 10. What is the difference between implicit and explicit type casting?\n",
        "\n",
        "Answer :\n",
        "\n",
        "Implicit type casting: Python automatically converts a smaller data type to a larger one (e.g., int to float).\n",
        "Explicit type casting: The user manually converts data using functions like int(), float(), or str().\n",
        "Question 11. What is the purpose of conditional statements in Python?\n",
        "\n",
        "Answer :\n",
        "\n",
        "Conditional statements (if, elif, else) control the flow of execution by allowing code to run only when certain conditions are met.\n",
        "\n",
        "Question 12. How does the elif statement work?\n",
        "\n",
        "Answer :\n",
        "\n",
        "The elif statement allows multiple conditions to be checked in sequence. If the if condition is false, Python checks the elif conditions before executing else.\n",
        "\n",
        "Question 13. What is the difference between for and while loops?\n",
        "\n",
        "Answer :\n",
        "\n",
        "For loop: Used when the number of iterations is known.\n",
        "While loop: Used when the number of iterations is unknown and depends on a condition.\n",
        "Question 14. Describe a scenario where a while loop is more suitable than a for loop.\n",
        " Answer : A while loop is better when waiting for user input, such as asking a user to enter a valid password until they enter the correct one.\n",
        "\n"
      ],
      "metadata": {
        "id": "qHGtFD1x1HN0"
      }
    },
    {
      "cell_type": "code",
      "source": [],
      "metadata": {
        "id": "5JsdgEpT2VrI"
      },
      "execution_count": null,
      "outputs": []
    },
    {
      "cell_type": "markdown",
      "source": [
        "**PRACTICAL QUESTIONS**"
      ],
      "metadata": {
        "id": "E-TiJZzc2WTd"
      }
    },
    {
      "cell_type": "markdown",
      "source": [],
      "metadata": {
        "id": "22B9gSXN2gzl"
      }
    },
    {
      "cell_type": "code",
      "source": [
        "#question 15. Print \"Hello, World!\"\n",
        "print(\"Hello, World!\")\n"
      ],
      "metadata": {
        "colab": {
          "base_uri": "https://localhost:8080/"
        },
        "id": "dGi3MfVL2heC",
        "outputId": "16543212-3843-4239-d974-4f3276aae2f6"
      },
      "execution_count": null,
      "outputs": [
        {
          "output_type": "stream",
          "name": "stdout",
          "text": [
            "Hello, World!\n"
          ]
        }
      ]
    },
    {
      "cell_type": "code",
      "source": [
        "#16. Display your name and age\n",
        "name = \"John Doe\"\n",
        "age = 25\n",
        "print(\"Name:\", name)\n",
        "print(\"Age:\", age)\n",
        "\n"
      ],
      "metadata": {
        "id": "72oZgncN2qwB"
      },
      "execution_count": null,
      "outputs": []
    },
    {
      "cell_type": "code",
      "source": [
        "#17. Print all pre-defined keywords in Python\n",
        "import keyword\n",
        "print(keyword.kwlist)\n"
      ],
      "metadata": {
        "id": "Jx9iDt3R2yFC"
      },
      "execution_count": null,
      "outputs": []
    },
    {
      "cell_type": "code",
      "source": [
        "#18. Check if a word is a Python keyword\n",
        "import keyword\n",
        "word = input(\"Enter a word: \")\n",
        "print(f\"{word} is a keyword\" if keyword.iskeyword(word) else f\"{word} is not a keyword\")\n"
      ],
      "metadata": {
        "id": "YLrwBSca2-g1"
      },
      "execution_count": null,
      "outputs": []
    },
    {
      "cell_type": "code",
      "source": [
        "#19. Demonstrate list and tuple mutability\n",
        "\n",
        "# List (mutable)\n",
        "my_list = [1, 2, 3]\n",
        "my_list[0] = 100\n",
        "print(\"Modified List:\", my_list)\n",
        "\n",
        "# Tuple (immutable)\n",
        "my_tuple = (1, 2, 3)\n",
        "try:\n",
        "    my_tuple[0] = 100\n",
        "except TypeError as e:\n",
        "    print(\"Error:\", e)\n",
        "\n"
      ],
      "metadata": {
        "id": "fHptsy0y3B1_"
      },
      "execution_count": null,
      "outputs": []
    },
    {
      "cell_type": "code",
      "source": [
        "#20. Demonstrate mutable and immutable function arguments\n",
        "\n",
        "def modify_list(lst):\n",
        "    lst.append(4)\n",
        "\n",
        "def modify_tuple(tpl):\n",
        "    try:\n",
        "        tpl[0] = 100\n",
        "    except TypeError as e:\n",
        "        print(\"Error:\", e)\n",
        "\n",
        "lst = [1, 2, 3]\n",
        "tpl = (1, 2, 3)\n",
        "\n",
        "modify_list(lst)\n",
        "modify_tuple(tpl)\n",
        "\n",
        "print(\"List after modification:\", lst)\n",
        "print(\"Tuple remains the same:\", tpl)\n"
      ],
      "metadata": {
        "id": "_xnbwnVU3KXs"
      },
      "execution_count": null,
      "outputs": []
    },
    {
      "cell_type": "code",
      "source": [
        "#21. Demonstrate logical operators\n",
        "\n",
        "a = True\n",
        "b = False\n",
        "\n",
        "print(\"AND:\", a and b)\n",
        "print(\"OR:\", a or b)\n",
        "print(\"NOT:\", not a)\n"
      ],
      "metadata": {
        "id": "QJmF9RIg3RgN"
      },
      "execution_count": null,
      "outputs": []
    },
    {
      "cell_type": "code",
      "source": [
        "#22. Convert user input to integer, float, and boolean\n",
        "\n",
        "value = input(\"Enter a value: \")\n",
        "print(\"Integer:\", int(value))\n",
        "print(\"Float:\", float(value))\n",
        "print(\"Boolean:\", bool(value))\n"
      ],
      "metadata": {
        "id": "6Jn7gRAM3ZF5"
      },
      "execution_count": null,
      "outputs": []
    },
    {
      "cell_type": "code",
      "source": [
        "# 23. Demonstrate type casting with list elements\n",
        "\n",
        "num_list = [\"1\", \"2\", \"3\"]\n",
        "int_list = [int(num) for num in num_list]\n",
        "print(\"Converted list:\", int_list)\n"
      ],
      "metadata": {
        "id": "YybHmIid3gZU"
      },
      "execution_count": null,
      "outputs": []
    },
    {
      "cell_type": "code",
      "source": [
        "#24. Check if a number is positive, negative, or zero\n",
        "\n",
        "num = int(input(\"Enter a number: \"))\n",
        "if num > 0:\n",
        "    print(\"Positive\")\n",
        "elif num < 0:\n",
        "    print(\"Negative\")\n",
        "else:\n",
        "    print(\"Zero\")\n"
      ],
      "metadata": {
        "id": "wGEXu5AN3sTr"
      },
      "execution_count": null,
      "outputs": []
    },
    {
      "cell_type": "code",
      "source": [
        "#25. Print numbers from 1 to 10 using a for loop\n",
        "\n",
        "for i in range(1, 11):\n",
        "    print(i)\n"
      ],
      "metadata": {
        "id": "H49WfcCl3x6M"
      },
      "execution_count": null,
      "outputs": []
    },
    {
      "cell_type": "code",
      "source": [
        "#26. Find the sum of all even numbers between 1 and 50\n",
        "\n",
        "print(sum(i for i in range(1, 51) if i % 2 == 0))\n"
      ],
      "metadata": {
        "id": "Pqk2RIva333P"
      },
      "execution_count": null,
      "outputs": []
    },
    {
      "cell_type": "code",
      "source": [
        "#27. Reverse a string using a while loop\n",
        "\n",
        "string = input(\"Enter a string: \")\n",
        "reversed_string = \"\"\n",
        "i = len(string) - 1\n",
        "\n",
        "while i >= 0:\n",
        "    reversed_string += string[i]\n",
        "    i -= 1\n",
        "\n",
        "print(\"Reversed string:\", reversed_string)\n",
        "\n"
      ],
      "metadata": {
        "id": "B90BAQAD39au"
      },
      "execution_count": null,
      "outputs": []
    },
    {
      "cell_type": "code",
      "source": [
        "#28. Calculate the factorial of a number using a while loop\n",
        "\n",
        "num = int(input(\"Enter a number: \"))\n",
        "factorial = 1\n",
        "i = num\n",
        "\n",
        "while i > 0:\n",
        "    factorial *= i\n",
        "    i -= 1\n",
        "\n",
        "print(\"Factorial:\", factorial)\n"
      ],
      "metadata": {
        "id": "UQy32wr34C6z"
      },
      "execution_count": null,
      "outputs": []
    }
  ]
}